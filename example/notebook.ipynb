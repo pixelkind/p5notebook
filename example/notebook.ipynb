{
  "cells": [
    {
      "cell_type": "markdown",
      "metadata": {},
      "source": [
        "# Your Custom Renderer"
      ]
    },
    {
      "cell_type": "markdown",
      "metadata": {},
      "source": [
        "This is a Jupyter notebook file. Down below, we've created output as if a cell was executed and generated `x-application/custom-json-output` output. You can use the **View: Reopen Editor With...** command to view the JSON source of this notebook and change the output data. Or, you can installed the Python extension (for example) and replace the code cell below with one that generates the output you expect"
      ]
    },
    {
      "cell_type": "code",
      "execution_count": null,
      "metadata": {},
      "outputs": [
        {
          "data": {
            "x-application/custom-json-output": {
              "hello": "world!"
            }
          },
          "execution_count": 1,
          "metadata": {},
          "output_type": "execute_result"
        }
      ],
      "source": [
        "# <code that creates x-application/custom-json-output output>"
      ]
    }
  ],
  "metadata": {
    "kernelspec": {
      "display_name": "Python 3.9.9 64-bit ('3.9.9')",
      "language": "python",
      "name": "python3"
    },
    "language_info": {
      "name": "python",
      "version": "3.9.9"
    },
    "orig_nbformat": 4,
    "vscode": {
      "interpreter": {
        "hash": "fbac99d04e1853cc89d23721fbefc6f9b573a9ed1f070daad21f59662358cda2"
      }
    }
  },
  "nbformat": 4,
  "nbformat_minor": 2
}
