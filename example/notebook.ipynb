{
  "cells": [
    {
      "cell_type": "markdown",
      "source": [
        "# Your Custom Renderer"
      ],
      "metadata": {}
    },
    {
      "cell_type": "markdown",
      "source": [
        "This is a Jupyter notebook file. Down below, we've created output as if a cell was executed and generated `x-application/custom-json-output` output. You can use the **View: Reopen Editor With...** command to view the JSON source of this notebook and change the output data. Or, you can installed the Python extension (for example) and replace the code cell below with one that generates the output you expect"
      ],
      "metadata": {}
    },
    {
      "cell_type": "code",
      "execution_count": 1,
      "metadata": {},
      "source": [
        "# <code that creates x-application/custom-json-output output>"
      ],
      "outputs": [
        {
          "output_type": "execute_result",
          "data": {
            "x-application/custom-json-output": "{\"hello\":\"world!\"}"
          },
          "metadata": {},
          "execution_count": 1
        }
      ]
    }
  ]
}
